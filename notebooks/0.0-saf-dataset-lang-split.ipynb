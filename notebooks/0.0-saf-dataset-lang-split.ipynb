{
 "cells": [
  {
   "cell_type": "code",
   "execution_count": 1,
   "metadata": {},
   "outputs": [
    {
     "name": "stdout",
     "output_type": "stream",
     "text": [
      "/home/sandor/DTU/2022-23-fall/deep-learning/diffusion_for_speech\n"
     ]
    }
   ],
   "source": [
    "%cd .."
   ]
  },
  {
   "cell_type": "code",
   "execution_count": 2,
   "metadata": {},
   "outputs": [
    {
     "name": "stderr",
     "output_type": "stream",
     "text": [
      "/home/sandor/.virtualenv/diffspeak-env/lib/python3.10/site-packages/tqdm/auto.py:22: TqdmWarning: IProgress not found. Please update jupyter and ipywidgets. See https://ipywidgets.readthedocs.io/en/stable/user_install.html\n",
      "  from .autonotebook import tqdm as notebook_tqdm\n",
      "/tmp/ipykernel_22556/3237214391.py:4: UserWarning: \n",
      "The version_base parameter is not specified.\n",
      "Please specify a compatability version level, or None.\n",
      "Will assume defaults for version 1.1\n",
      "  hydra.initialize(config_path=\"../configs\")\n"
     ]
    }
   ],
   "source": [
    "from diffspeak.datasets.dataset import ConditionalDataset\n",
    "import hydra\n",
    "\n",
    "hydra.initialize(config_path=\"../configs\")\n",
    "\n",
    "cfg = hydra.compose(config_name=\"config_pretrained\")\n",
    "\n",
    "\n"
   ]
  },
  {
   "cell_type": "code",
   "execution_count": 3,
   "metadata": {},
   "outputs": [],
   "source": [
    "cds = ConditionalDataset(cfg, inference=True)"
   ]
  },
  {
   "cell_type": "code",
   "execution_count": 6,
   "metadata": {},
   "outputs": [
    {
     "ename": "RuntimeError",
     "evalue": "Failed to open the input \"/dtu/blackhole/19/s176453/diffusion_for_speech/data/tj/processed/LJSpeech-1.1/wavs/LJ039-0203.wav\" (No such file or directory).",
     "output_type": "error",
     "traceback": [
      "\u001b[0;31m---------------------------------------------------------------------------\u001b[0m",
      "\u001b[0;31mRuntimeError\u001b[0m                              Traceback (most recent call last)",
      "Cell \u001b[0;32mIn[6], line 1\u001b[0m\n\u001b[0;32m----> 1\u001b[0m \u001b[38;5;28;01mfor\u001b[39;00m i \u001b[38;5;129;01min\u001b[39;00m \u001b[38;5;28miter\u001b[39m(cds):\n\u001b[1;32m      2\u001b[0m     \u001b[38;5;28mprint\u001b[39m(i)\n",
      "File \u001b[0;32m~/DTU/2022-23-fall/deep-learning/diffusion_for_speech/src/diffspeak/datasets/dataset.py:41\u001b[0m, in \u001b[0;36mConditionalDataset.__getitem__\u001b[0;34m(self, idx)\u001b[0m\n\u001b[1;32m     39\u001b[0m audio_filename \u001b[39m=\u001b[39m \u001b[39mself\u001b[39m\u001b[39m.\u001b[39mdf\u001b[39m.\u001b[39miloc[idx][\u001b[39m\"\u001b[39m\u001b[39maudio_path\u001b[39m\u001b[39m\"\u001b[39m]\n\u001b[1;32m     40\u001b[0m spec_filename \u001b[39m=\u001b[39m \u001b[39mself\u001b[39m\u001b[39m.\u001b[39mdf\u001b[39m.\u001b[39miloc[idx][\u001b[39m\"\u001b[39m\u001b[39mspectrogram_path\u001b[39m\u001b[39m\"\u001b[39m]\n\u001b[0;32m---> 41\u001b[0m audio \u001b[39m=\u001b[39m T\u001b[39m.\u001b[39;49mload(audio_filename)[\u001b[39m0\u001b[39m][\u001b[39m0\u001b[39m]\n\u001b[1;32m     42\u001b[0m spectrogram \u001b[39m=\u001b[39m torch\u001b[39m.\u001b[39mload(spec_filename)\u001b[39m.\u001b[39mT\n\u001b[1;32m     43\u001b[0m \u001b[39mreturn\u001b[39;00m {\u001b[39m\"\u001b[39m\u001b[39maudio\u001b[39m\u001b[39m\"\u001b[39m: audio, \u001b[39m\"\u001b[39m\u001b[39mspectrogram\u001b[39m\u001b[39m\"\u001b[39m: spectrogram, \u001b[39m\"\u001b[39m\u001b[39mfilename\u001b[39m\u001b[39m\"\u001b[39m: audio_filename}\n",
      "File \u001b[0;32m~/.virtualenv/diffspeak-env/lib/python3.10/site-packages/torchaudio/backend/sox_io_backend.py:227\u001b[0m, in \u001b[0;36mload\u001b[0;34m(filepath, frame_offset, num_frames, normalize, channels_first, format)\u001b[0m\n\u001b[1;32m    225\u001b[0m \u001b[39mif\u001b[39;00m ret \u001b[39mis\u001b[39;00m \u001b[39mnot\u001b[39;00m \u001b[39mNone\u001b[39;00m:\n\u001b[1;32m    226\u001b[0m     \u001b[39mreturn\u001b[39;00m ret\n\u001b[0;32m--> 227\u001b[0m \u001b[39mreturn\u001b[39;00m _fallback_load(filepath, frame_offset, num_frames, normalize, channels_first, \u001b[39mformat\u001b[39;49m)\n",
      "File \u001b[0;32m~/.virtualenv/diffspeak-env/lib/python3.10/site-packages/torchaudio/io/_compat.py:102\u001b[0m, in \u001b[0;36mload_audio\u001b[0;34m(src, frame_offset, num_frames, convert, channels_first, format)\u001b[0m\n\u001b[1;32m     94\u001b[0m \u001b[39mdef\u001b[39;00m \u001b[39mload_audio\u001b[39m(\n\u001b[1;32m     95\u001b[0m     src: \u001b[39mstr\u001b[39m,\n\u001b[1;32m     96\u001b[0m     frame_offset: \u001b[39mint\u001b[39m \u001b[39m=\u001b[39m \u001b[39m0\u001b[39m,\n\u001b[0;32m   (...)\u001b[0m\n\u001b[1;32m    100\u001b[0m     \u001b[39mformat\u001b[39m: Optional[\u001b[39mstr\u001b[39m] \u001b[39m=\u001b[39m \u001b[39mNone\u001b[39;00m,\n\u001b[1;32m    101\u001b[0m ) \u001b[39m-\u001b[39m\u001b[39m>\u001b[39m Tuple[torch\u001b[39m.\u001b[39mTensor, \u001b[39mint\u001b[39m]:\n\u001b[0;32m--> 102\u001b[0m     s \u001b[39m=\u001b[39m torch\u001b[39m.\u001b[39;49mclasses\u001b[39m.\u001b[39;49mtorchaudio\u001b[39m.\u001b[39;49mffmpeg_StreamReader(src, \u001b[39mformat\u001b[39;49m, \u001b[39mNone\u001b[39;49;00m)\n\u001b[1;32m    103\u001b[0m     \u001b[39mreturn\u001b[39;00m _load_audio(s, frame_offset, num_frames, convert, channels_first)\n",
      "\u001b[0;31mRuntimeError\u001b[0m: Failed to open the input \"/dtu/blackhole/19/s176453/diffusion_for_speech/data/tj/processed/LJSpeech-1.1/wavs/LJ039-0203.wav\" (No such file or directory)."
     ]
    }
   ],
   "source": [
    "for i in iter(cds):\n",
    "    print(i)"
   ]
  }
 ],
 "metadata": {
  "kernelspec": {
   "display_name": "Python 3.10.6 ('diffspeak-env')",
   "language": "python",
   "name": "python3"
  },
  "language_info": {
   "codemirror_mode": {
    "name": "ipython",
    "version": 3
   },
   "file_extension": ".py",
   "mimetype": "text/x-python",
   "name": "python",
   "nbconvert_exporter": "python",
   "pygments_lexer": "ipython3",
   "version": "3.10.6"
  },
  "orig_nbformat": 4,
  "vscode": {
   "interpreter": {
    "hash": "29e45cce7849392f3897cb0a8564ad07652655f88c660d813636ee2a9e2f81c7"
   }
  }
 },
 "nbformat": 4,
 "nbformat_minor": 2
}
