{
 "cells": [
  {
   "cell_type": "code",
   "execution_count": 1,
   "metadata": {},
   "outputs": [
    {
     "name": "stdout",
     "output_type": "stream",
     "text": [
      "/zhome/ed/0/170279/Github/deep-learning/diffusion_for_speech\n"
     ]
    }
   ],
   "source": [
    "%cd .."
   ]
  },
  {
   "cell_type": "code",
   "execution_count": 2,
   "metadata": {},
   "outputs": [
    {
     "name": "stderr",
     "output_type": "stream",
     "text": [
      "/zhome/ed/0/170279/Github/deep-learning/venv/lib/python3.9/site-packages/tqdm/auto.py:22: TqdmWarning: IProgress not found. Please update jupyter and ipywidgets. See https://ipywidgets.readthedocs.io/en/stable/user_install.html\n",
      "  from .autonotebook import tqdm as notebook_tqdm\n",
      "/tmp/ipykernel_1115/416078565.py:7: UserWarning: \n",
      "The version_base parameter is not specified.\n",
      "Please specify a compatability version level, or None.\n",
      "Will assume defaults for version 1.1\n",
      "  hydra.initialize(config_path=\"../configs\")\n"
     ]
    },
    {
     "data": {
      "text/plain": [
       "hydra.initialize()"
      ]
     },
     "execution_count": 2,
     "metadata": {},
     "output_type": "execute_result"
    }
   ],
   "source": [
    "import pandas as pd\n",
    "import hydra\n",
    "\n",
    "from diffspeak.datasets.dataset import ConditionalDataset\n",
    "\n",
    "df = pd.read_csv('data/annotations.csv')\n",
    "hydra.initialize(config_path=\"../configs\")\n"
   ]
  },
  {
   "cell_type": "markdown",
   "metadata": {},
   "source": [
    "## TJ conditional and remove shorts"
   ]
  },
  {
   "cell_type": "code",
   "execution_count": 4,
   "metadata": {},
   "outputs": [
    {
     "name": "stdout",
     "output_type": "stream",
     "text": [
      "in csv: \t179\n",
      "in dataloader: \t179\n"
     ]
    }
   ],
   "source": [
    "cfg = hydra.compose(config_name=\"config\")\n",
    "cfg_datamodule = hydra.compose(config_name=\"datamodule/tjspeech_cond\")\n",
    "cfg.datamodule = cfg_datamodule['datamodule']\n",
    "\n",
    "filter_0 = df['split'] == 1\n",
    "filter_1 = df['language'] == 'tj'\n",
    "filter_2 = df[\"audio_len\"] >= cfg.datamodule.params.audio_len\n",
    "\n",
    "cond_dataset = ConditionalDataset(cfg, inference=True)\n",
    "\n",
    "print(f'in csv: \\t{len(df[filter_0 & filter_1 & filter_2])}')\n",
    "print(f'in dataloader: \\t{len(cond_dataset)}')\n"
   ]
  },
  {
   "cell_type": "code",
   "execution_count": 5,
   "metadata": {},
   "outputs": [
    {
     "name": "stdout",
     "output_type": "stream",
     "text": [
      "in csv: \t19445\n",
      "in dataloader: \t19445\n"
     ]
    }
   ],
   "source": [
    "cfg = hydra.compose(config_name=\"config\")\n",
    "cfg_datamodule = hydra.compose(config_name=\"datamodule/tjspeech_cond\")\n",
    "cfg.datamodule = cfg_datamodule['datamodule']\n",
    "\n",
    "filter_0 = df['split'] == 0\n",
    "filter_1 = df['language'] == 'tj'\n",
    "filter_2 = df[\"audio_len\"] >= cfg.datamodule.params.audio_len\n",
    "\n",
    "cond_dataset = ConditionalDataset(cfg, inference=False)\n",
    "\n",
    "print(f'in csv: \\t{len(df[filter_0 & filter_1 & filter_2])}')\n",
    "print(f'in dataloader: \\t{len(cond_dataset)}')\n"
   ]
  },
  {
   "cell_type": "markdown",
   "metadata": {},
   "source": [
    "## NST_DA conditional and remove shorts"
   ]
  },
  {
   "cell_type": "code",
   "execution_count": 6,
   "metadata": {},
   "outputs": [
    {
     "name": "stdout",
     "output_type": "stream",
     "text": [
      "in csv: \t2636\n",
      "in dataloader: \t2636\n"
     ]
    }
   ],
   "source": [
    "cfg = hydra.compose(config_name=\"config\")\n",
    "cfg_datamodule = hydra.compose(config_name=\"datamodule/nst_da_cond\")\n",
    "cfg.datamodule = cfg_datamodule['datamodule']\n",
    "\n",
    "filter_0 = df['split'] == 1\n",
    "filter_1 = df['language'] == 'nst_danish'\n",
    "filter_2 = df[\"audio_len\"] >= cfg.datamodule.params.audio_len\n",
    "\n",
    "cond_dataset = ConditionalDataset(cfg, inference=True)\n",
    "\n",
    "print(f'in csv: \\t{len(df[filter_0 & filter_1 & filter_2])}')\n",
    "print(f'in dataloader: \\t{len(cond_dataset)}')"
   ]
  },
  {
   "cell_type": "code",
   "execution_count": 7,
   "metadata": {},
   "outputs": [
    {
     "name": "stdout",
     "output_type": "stream",
     "text": [
      "in csv: \t262004\n",
      "in dataloader: \t262004\n"
     ]
    }
   ],
   "source": [
    "cfg = hydra.compose(config_name=\"config\")\n",
    "cfg_datamodule = hydra.compose(config_name=\"datamodule/nst_da_cond\")\n",
    "cfg.datamodule = cfg_datamodule['datamodule']\n",
    "\n",
    "filter_0 = df['split'] == 0\n",
    "filter_1 = df['language'] == 'nst_danish'\n",
    "filter_2 = df[\"audio_len\"] >= cfg.datamodule.params.audio_len\n",
    "\n",
    "cond_dataset = ConditionalDataset(cfg, inference=False)\n",
    "\n",
    "print(f'in csv: \\t{len(df[filter_0 & filter_1 & filter_2])}')\n",
    "print(f'in dataloader: \\t{len(cond_dataset)}')"
   ]
  },
  {
   "cell_type": "markdown",
   "metadata": {},
   "source": [
    "## Both languages and don't remove shorts"
   ]
  },
  {
   "cell_type": "code",
   "execution_count": 8,
   "metadata": {},
   "outputs": [
    {
     "name": "stdout",
     "output_type": "stream",
     "text": [
      "in csv: \t2873\n",
      "in dataloader: \t2873\n"
     ]
    }
   ],
   "source": [
    "cfg = hydra.compose(config_name=\"config\")\n",
    "cfg_datamodule = hydra.compose(config_name=\"datamodule/multilang_cond\")\n",
    "cfg.datamodule = cfg_datamodule['datamodule']\n",
    "\n",
    "filter_0 = df['split'] == 1\n",
    "filter_1 = (df['language'] == 'nst_danish') | (df['language'] == 'tj')\n",
    "\n",
    "cond_dataset = ConditionalDataset(cfg, inference=True)\n",
    "\n",
    "print(f'in csv: \\t{len(df[filter_0 & filter_1])}')\n",
    "print(f'in dataloader: \\t{len(cond_dataset)}')"
   ]
  },
  {
   "cell_type": "code",
   "execution_count": 9,
   "metadata": {},
   "outputs": [
    {
     "name": "stdout",
     "output_type": "stream",
     "text": [
      "in csv: \t288625\n",
      "in dataloader: \t288625\n"
     ]
    }
   ],
   "source": [
    "cfg = hydra.compose(config_name=\"config\")\n",
    "cfg_datamodule = hydra.compose(config_name=\"datamodule/multilang_cond\")\n",
    "cfg.datamodule = cfg_datamodule['datamodule']\n",
    "\n",
    "filter_0 = df['split'] == 0\n",
    "filter_1 = (df['language'] == 'nst_danish') | (df['language'] == 'tj')\n",
    "\n",
    "cond_dataset = ConditionalDataset(cfg, inference=False)\n",
    "\n",
    "print(f'in csv: \\t{len(df[filter_0 & filter_1])}')\n",
    "print(f'in dataloader: \\t{len(cond_dataset)}')"
   ]
  },
  {
   "cell_type": "markdown",
   "metadata": {},
   "source": [
    "## Both languages and remove shorts"
   ]
  },
  {
   "cell_type": "code",
   "execution_count": 11,
   "metadata": {},
   "outputs": [
    {
     "name": "stdout",
     "output_type": "stream",
     "text": [
      "in csv: \t698\n",
      "in dataloader: \t698\n"
     ]
    }
   ],
   "source": [
    "cfg = hydra.compose(config_name=\"config\")\n",
    "cfg_datamodule = hydra.compose(config_name=\"datamodule/multilang_cond\")\n",
    "cfg.datamodule = cfg_datamodule['datamodule']\n",
    "cfg.datamodule.params.remove_shorts = True\n",
    "\n",
    "filter_0 = df['split'] == 1\n",
    "filter_1 = (df['language'] == 'nst_danish') | (df['language'] == 'tj')\n",
    "filter_2 = df[\"audio_len\"] >= cfg.datamodule.params.audio_len\n",
    "cond_dataset = ConditionalDataset(cfg, inference=True)\n",
    "\n",
    "print(f'in csv: \\t{len(df[filter_0 & filter_1 & filter_2])}')\n",
    "print(f'in dataloader: \\t{len(cond_dataset)}')"
   ]
  },
  {
   "cell_type": "code",
   "execution_count": 12,
   "metadata": {},
   "outputs": [
    {
     "name": "stdout",
     "output_type": "stream",
     "text": [
      "in csv: \t74211\n",
      "in dataloader: \t74211\n"
     ]
    }
   ],
   "source": [
    "cfg = hydra.compose(config_name=\"config\")\n",
    "cfg_datamodule = hydra.compose(config_name=\"datamodule/multilang_cond\")\n",
    "cfg.datamodule = cfg_datamodule['datamodule']\n",
    "cfg.datamodule.params.remove_shorts = True\n",
    "\n",
    "filter_0 = df['split'] == 0\n",
    "filter_1 = (df['language'] == 'nst_danish') | (df['language'] == 'tj')\n",
    "filter_2 = df[\"audio_len\"] >= cfg.datamodule.params.audio_len\n",
    "cond_dataset = ConditionalDataset(cfg, inference=False)\n",
    "\n",
    "print(f'in csv: \\t{len(df[filter_0 & filter_1 & filter_2])}')\n",
    "print(f'in dataloader: \\t{len(cond_dataset)}')"
   ]
  }
 ],
 "metadata": {
  "kernelspec": {
   "display_name": "Python 3.9.11 ('venv')",
   "language": "python",
   "name": "python3"
  },
  "language_info": {
   "codemirror_mode": {
    "name": "ipython",
    "version": 3
   },
   "file_extension": ".py",
   "mimetype": "text/x-python",
   "name": "python",
   "nbconvert_exporter": "python",
   "pygments_lexer": "ipython3",
   "version": "3.9.11"
  },
  "orig_nbformat": 4,
  "vscode": {
   "interpreter": {
    "hash": "2656f5b2e7fdd8a23ef881500e312a4bf8c61c909be062d48032c3856f4f6f7c"
   }
  }
 },
 "nbformat": 4,
 "nbformat_minor": 2
}
